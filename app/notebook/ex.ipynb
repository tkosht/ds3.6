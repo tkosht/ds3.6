{
 "nbformat": 4,
 "nbformat_minor": 2,
 "metadata": {
  "language_info": {
   "name": "python",
   "codemirror_mode": {
    "name": "ipython",
    "version": 3
   },
   "version": "3.6.10-final"
  },
  "orig_nbformat": 2,
  "file_extension": ".py",
  "mimetype": "text/x-python",
  "name": "python",
  "npconvert_exporter": "python",
  "pygments_lexer": "ipython3",
  "version": 3,
  "kernelspec": {
   "name": "python361064bit45e6fe5c1e10472baf2b0e965dceecda",
   "display_name": "Python 3.6.10 64-bit"
  }
 },
 "cells": [
  {
   "cell_type": "code",
   "execution_count": 1,
   "metadata": {},
   "outputs": [],
   "source": [
    "%matplotlib inline\n",
    "import numpy\n",
    "import pandas"
   ]
  },
  {
   "cell_type": "code",
   "execution_count": 21,
   "metadata": {},
   "outputs": [
    {
     "data": {
      "text/html": "<div>\n<style scoped>\n    .dataframe tbody tr th:only-of-type {\n        vertical-align: middle;\n    }\n\n    .dataframe tbody tr th {\n        vertical-align: top;\n    }\n\n    .dataframe thead th {\n        text-align: right;\n    }\n</style>\n<table border=\"1\" class=\"dataframe\">\n  <thead>\n    <tr style=\"text-align: right;\">\n      <th></th>\n      <th>ds</th>\n    </tr>\n    <tr>\n      <th>ds</th>\n      <th></th>\n    </tr>\n  </thead>\n  <tbody>\n    <tr>\n      <th>2017-01-01</th>\n      <td>2017-01-01</td>\n    </tr>\n    <tr>\n      <th>2017-01-02</th>\n      <td>2017-01-02</td>\n    </tr>\n    <tr>\n      <th>2017-01-03</th>\n      <td>2017-01-03</td>\n    </tr>\n  </tbody>\n</table>\n</div>",
      "text/plain": "                   ds\nds                   \n2017-01-01 2017-01-01\n2017-01-02 2017-01-02\n2017-01-03 2017-01-03"
     },
     "execution_count": 21,
     "metadata": {},
     "output_type": "execute_result"
    }
   ],
   "source": [
    " future_date = pandas.date_range(\"2017-01-01\", \"2018-12-31\", freq=\"D\", name=\"ds\").to_frame()\n",
    " future_date.head(3)"
   ]
  },
  {
   "cell_type": "code",
   "execution_count": 31,
   "metadata": {},
   "outputs": [
    {
     "name": "stdout",
     "output_type": "stream",
     "text": "2017-01-01 00:00:00 2018-12-31 00:00:00\n"
    },
    {
     "data": {
      "text/plain": "DatetimeIndex(['2017-01-31', '2017-07-31', '2018-01-31', '2018-07-31'], dtype='datetime64[ns]', freq='6M')"
     },
     "execution_count": 31,
     "metadata": {},
     "output_type": "execute_result"
    }
   ],
   "source": [
    "import datetime\n",
    "s = future_date.ds.iloc[0]\n",
    "e = future_date.ds.iloc[-1]\n",
    "print(s, e)\n",
    "t = pandas.date_range(s, e, freq=\"6M\")\n",
    "t"
   ]
  },
  {
   "cell_type": "code",
   "execution_count": 33,
   "metadata": {},
   "outputs": [],
   "source": [
    "from dateutil.relativedelta import relativedelta\n",
    "ee = t[-1] + relativedelta(months=6)"
   ]
  },
  {
   "cell_type": "code",
   "execution_count": 45,
   "metadata": {},
   "outputs": [],
   "source": [
    "tt = pandas.Series(t).append(pandas.Series(ee))\n"
   ]
  },
  {
   "cell_type": "code",
   "execution_count": 54,
   "metadata": {},
   "outputs": [
    {
     "name": "stdout",
     "output_type": "stream",
     "text": "2017/31/01 2017/31/07\n2017/31/07 2018/31/01\n2018/31/01 2018/31/07\n2018/31/07 2019/31/01\n"
    }
   ],
   "source": [
    "for s, e in zip(tt[:-1], tt[1:]):\n",
    "    s = s.strftime(\"%Y/%d/%m\")\n",
    "    e = e.strftime(\"%Y/%d/%m\")\n",
    "    print(s, e)"
   ]
  },
  {
   "cell_type": "code",
   "execution_count": null,
   "metadata": {},
   "outputs": [],
   "source": []
  },
  {
   "cell_type": "code",
   "execution_count": null,
   "metadata": {},
   "outputs": [],
   "source": [
    "future_date.columns"
   ]
  },
  {
   "cell_type": "code",
   "execution_count": null,
   "metadata": {},
   "outputs": [],
   "source": [
    "data_df = pandas.read_csv(\"../data/data.tsv\", sep=\"\\t\", header=0, index_col=\"datetime\", parse_dates=True)\n",
    "data_df.head()\n"
   ]
  },
  {
   "cell_type": "code",
   "execution_count": null,
   "metadata": {},
   "outputs": [],
   "source": [
    "data_df.index"
   ]
  },
  {
   "cell_type": "code",
   "execution_count": null,
   "metadata": {},
   "outputs": [],
   "source": [
    "data_df.rename(columns=dict(datetime=\"ds\"), inplace=True)\n",
    "data_df.head()"
   ]
  },
  {
   "cell_type": "code",
   "execution_count": null,
   "metadata": {},
   "outputs": [],
   "source": [
    "pandas.to_datetime([\"2017-01-01\"])"
   ]
  },
  {
   "cell_type": "code",
   "execution_count": null,
   "metadata": {},
   "outputs": [],
   "source": []
  }
 ]
}